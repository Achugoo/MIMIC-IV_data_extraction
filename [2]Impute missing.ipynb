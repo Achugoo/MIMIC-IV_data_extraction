{
 "cells": [
  {
   "cell_type": "code",
   "execution_count": 7,
   "id": "df2c931c",
   "metadata": {},
   "outputs": [],
   "source": [
    "import pandas as pd\n",
    "import numpy as np\n",
    "from tqdm import tqdm\n",
    "from sklearn.preprocessing import LabelEncoder"
   ]
  },
  {
   "cell_type": "code",
   "execution_count": 8,
   "id": "c8870780",
   "metadata": {},
   "outputs": [],
   "source": [
    "df= pd.read_csv(f'./data/mimic_data/full_step1.csv')"
   ]
  },
  {
   "cell_type": "code",
   "execution_count": 9,
   "id": "1a621e6e",
   "metadata": {},
   "outputs": [],
   "source": [
    "missing_count = df[['PEEP','FiO2']].isnull().sum(axis=1)\n",
    "df['missing'] =  missing_count/2"
   ]
  },
  {
   "cell_type": "code",
   "execution_count": 10,
   "id": "ca8fba20",
   "metadata": {},
   "outputs": [],
   "source": [
    "def impute_Gram_stain(df_in):\n",
    "    Gram_stain_feature = ['Abdomen','Blood','Respiratory tract','Skin and soft tissue','Urinary tract','Others']\n",
    "    df_out = df_in.copy()\n",
    "    for col in Gram_stain_feature:\n",
    "        df_out[col] = df_out[col].rolling(window=5, center=True, min_periods=1).apply(lambda x: (x.sum() >= 1) * 1, raw=False)\n",
    "    return df_out\n",
    "\n",
    "def impute_PEEP_FiO2(df_P,avg_PEEP,avg_FiO2):\n",
    "    PEEP = 5\n",
    "    FiO2 = 30\n",
    "    df_P.loc[df_P['use_vent'] == 0, ['PEEP']] = PEEP\n",
    "    df_P.loc[df_P['use_vent'] == 0, ['FiO2']] = FiO2\n",
    "    fill_interval = False\n",
    "    for i in range(len(df_P)):\n",
    "        if df_P.loc[i, 'use_vent'] == 1 and not fill_interval:\n",
    "            fill_interval = True\n",
    "            start_index = i\n",
    "        elif df_P.loc[i, 'use_vent'] == 0 and fill_interval:\n",
    "            fill_interval = False\n",
    "            end_index = i\n",
    "            subset = df_P.loc[start_index:end_index - 1].copy()\n",
    "            subset['PEEP'] = subset['PEEP'].interpolate(method='linear', limit_direction='both')\n",
    "            subset['FiO2'] = subset['FiO2'].interpolate(method='linear', limit_direction='both')\n",
    "            subset['PEEP'].fillna(avg_PEEP, inplace=True)\n",
    "            subset['FiO2'].fillna(avg_FiO2, inplace=True)\n",
    "            df_P.loc[start_index:end_index - 1] = subset\n",
    "    return df_P\n",
    "\n",
    "\n",
    "def impute_vent_feature(df_input,df_Mean):\n",
    "    df_P = df_input.copy()\n",
    "\n",
    "    vent_feature_list = ['PEEP','FiO2','Mean Airway Pressure','Peak Airway Pressure','RASS']\n",
    "    PEEP = 5\n",
    "    FiO2 = 30\n",
    "    df_P.loc[df_P['use_vent'] == 0, ['PEEP']] = PEEP\n",
    "    df_P.loc[df_P['use_vent'] == 0, ['FiO2']] = FiO2\n",
    "    \n",
    "    fill_interval = False\n",
    "    for i in range(len(df_P)):\n",
    "        if df_P.loc[i, 'use_vent'] == 1 and not fill_interval:\n",
    "            fill_interval = True\n",
    "            start_index = i\n",
    "        elif df_P.loc[i, 'use_vent'] == 0 and fill_interval:\n",
    "            fill_interval = False\n",
    "            end_index = i\n",
    "            subset = df_P.loc[start_index:end_index - 1].copy()\n",
    "            \n",
    "            for feature_name in vent_feature_list:\n",
    "                subset[feature_name].fillna(method='ffill', inplace=True)\n",
    "                subset[feature_name].fillna(df_Mean, inplace=True)\n",
    "            df_P.loc[start_index:end_index - 1] = subset\n",
    "            \n",
    "    for feature_name in vent_feature_list:\n",
    "        df_P.loc[:, feature_name].fillna(df_Mean[feature_name], inplace=True)\n",
    "    \n",
    "    return df_P\n"
   ]
  },
  {
   "cell_type": "code",
   "execution_count": null,
   "id": "73b6cfa9",
   "metadata": {},
   "outputs": [],
   "source": []
  },
  {
   "cell_type": "code",
   "execution_count": 11,
   "id": "73e856b9",
   "metadata": {},
   "outputs": [],
   "source": [
    "def remove_outliers(series):\n",
    "    if  series.dtype == object:\n",
    "        print(f'object....{series.name}')\n",
    "        return series\n",
    "    if series.max() == 1 and series.min() == 0:\n",
    "        print(f'found 0/1!....{series.name}')\n",
    "        return series\n",
    "    \n",
    "    Q1 = series.quantile(0.25)\n",
    "    Q3 = series.quantile(0.75)\n",
    "    IQR = Q3 - Q1\n",
    "    return series[(series >= Q1 - 1.5 * IQR) & (series <= Q3 + 1.5 * IQR)]"
   ]
  },
  {
   "cell_type": "code",
   "execution_count": 12,
   "id": "e263cb4f",
   "metadata": {},
   "outputs": [],
   "source": [
    "feature_name_list = df.columns.to_list()\n",
    "missing_ratio =  df.isna().mean().to_list()"
   ]
  },
  {
   "cell_type": "code",
   "execution_count": 13,
   "id": "9600d440",
   "metadata": {},
   "outputs": [],
   "source": [
    "drop_cols = ['Total Protein','Compliance','Albumin','Alkaline Phos.','Total Bilirubin','ALT (SGPT)','AST (SGOT)','Respiration','Pressure Support','ROXindex','Troponin - I','PTT_Ratio']\n",
    "df = df.drop(drop_cols,axis = 1)"
   ]
  },
  {
   "cell_type": "code",
   "execution_count": 14,
   "id": "3cf4219f",
   "metadata": {},
   "outputs": [],
   "source": [
    "#各欄位的缺失比例\n",
    "missing_data_ratios = df.isna().mean()\n",
    "cols_with_missing_data = missing_data_ratios[missing_data_ratios == 1].index\n",
    "df = df.drop(cols_with_missing_data, axis=1)"
   ]
  },
  {
   "cell_type": "code",
   "execution_count": 15,
   "id": "1cbdd9d0",
   "metadata": {},
   "outputs": [],
   "source": [
    "#input()"
   ]
  },
  {
   "cell_type": "code",
   "execution_count": null,
   "id": "346dd05f",
   "metadata": {},
   "outputs": [],
   "source": []
  },
  {
   "cell_type": "code",
   "execution_count": 16,
   "id": "74d4e32d",
   "metadata": {},
   "outputs": [
    {
     "name": "stderr",
     "output_type": "stream",
     "text": [
      "C:\\Users\\M1107171\\AppData\\Local\\Temp\\ipykernel_22436\\332301269.py:4: PerformanceWarning: DataFrame is highly fragmented.  This is usually the result of calling `frame.insert` many times, which has poor performance.  Consider joining all columns at once using pd.concat(axis=1) instead. To get a de-fragmented frame, use `newframe = frame.copy()`\n",
      "  df[mask_col_name] = df[col].isna().astype(int)\n",
      "C:\\Users\\M1107171\\AppData\\Local\\Temp\\ipykernel_22436\\332301269.py:4: PerformanceWarning: DataFrame is highly fragmented.  This is usually the result of calling `frame.insert` many times, which has poor performance.  Consider joining all columns at once using pd.concat(axis=1) instead. To get a de-fragmented frame, use `newframe = frame.copy()`\n",
      "  df[mask_col_name] = df[col].isna().astype(int)\n",
      "C:\\Users\\M1107171\\AppData\\Local\\Temp\\ipykernel_22436\\332301269.py:4: PerformanceWarning: DataFrame is highly fragmented.  This is usually the result of calling `frame.insert` many times, which has poor performance.  Consider joining all columns at once using pd.concat(axis=1) instead. To get a de-fragmented frame, use `newframe = frame.copy()`\n",
      "  df[mask_col_name] = df[col].isna().astype(int)\n",
      "C:\\Users\\M1107171\\AppData\\Local\\Temp\\ipykernel_22436\\332301269.py:4: PerformanceWarning: DataFrame is highly fragmented.  This is usually the result of calling `frame.insert` many times, which has poor performance.  Consider joining all columns at once using pd.concat(axis=1) instead. To get a de-fragmented frame, use `newframe = frame.copy()`\n",
      "  df[mask_col_name] = df[col].isna().astype(int)\n",
      "C:\\Users\\M1107171\\AppData\\Local\\Temp\\ipykernel_22436\\332301269.py:4: PerformanceWarning: DataFrame is highly fragmented.  This is usually the result of calling `frame.insert` many times, which has poor performance.  Consider joining all columns at once using pd.concat(axis=1) instead. To get a de-fragmented frame, use `newframe = frame.copy()`\n",
      "  df[mask_col_name] = df[col].isna().astype(int)\n",
      "C:\\Users\\M1107171\\AppData\\Local\\Temp\\ipykernel_22436\\332301269.py:4: PerformanceWarning: DataFrame is highly fragmented.  This is usually the result of calling `frame.insert` many times, which has poor performance.  Consider joining all columns at once using pd.concat(axis=1) instead. To get a de-fragmented frame, use `newframe = frame.copy()`\n",
      "  df[mask_col_name] = df[col].isna().astype(int)\n",
      "C:\\Users\\M1107171\\AppData\\Local\\Temp\\ipykernel_22436\\332301269.py:4: PerformanceWarning: DataFrame is highly fragmented.  This is usually the result of calling `frame.insert` many times, which has poor performance.  Consider joining all columns at once using pd.concat(axis=1) instead. To get a de-fragmented frame, use `newframe = frame.copy()`\n",
      "  df[mask_col_name] = df[col].isna().astype(int)\n",
      "C:\\Users\\M1107171\\AppData\\Local\\Temp\\ipykernel_22436\\332301269.py:4: PerformanceWarning: DataFrame is highly fragmented.  This is usually the result of calling `frame.insert` many times, which has poor performance.  Consider joining all columns at once using pd.concat(axis=1) instead. To get a de-fragmented frame, use `newframe = frame.copy()`\n",
      "  df[mask_col_name] = df[col].isna().astype(int)\n",
      "C:\\Users\\M1107171\\AppData\\Local\\Temp\\ipykernel_22436\\332301269.py:4: PerformanceWarning: DataFrame is highly fragmented.  This is usually the result of calling `frame.insert` many times, which has poor performance.  Consider joining all columns at once using pd.concat(axis=1) instead. To get a de-fragmented frame, use `newframe = frame.copy()`\n",
      "  df[mask_col_name] = df[col].isna().astype(int)\n",
      "C:\\Users\\M1107171\\AppData\\Local\\Temp\\ipykernel_22436\\332301269.py:4: PerformanceWarning: DataFrame is highly fragmented.  This is usually the result of calling `frame.insert` many times, which has poor performance.  Consider joining all columns at once using pd.concat(axis=1) instead. To get a de-fragmented frame, use `newframe = frame.copy()`\n",
      "  df[mask_col_name] = df[col].isna().astype(int)\n",
      "C:\\Users\\M1107171\\AppData\\Local\\Temp\\ipykernel_22436\\332301269.py:4: PerformanceWarning: DataFrame is highly fragmented.  This is usually the result of calling `frame.insert` many times, which has poor performance.  Consider joining all columns at once using pd.concat(axis=1) instead. To get a de-fragmented frame, use `newframe = frame.copy()`\n",
      "  df[mask_col_name] = df[col].isna().astype(int)\n",
      "C:\\Users\\M1107171\\AppData\\Local\\Temp\\ipykernel_22436\\332301269.py:4: PerformanceWarning: DataFrame is highly fragmented.  This is usually the result of calling `frame.insert` many times, which has poor performance.  Consider joining all columns at once using pd.concat(axis=1) instead. To get a de-fragmented frame, use `newframe = frame.copy()`\n",
      "  df[mask_col_name] = df[col].isna().astype(int)\n",
      "C:\\Users\\M1107171\\AppData\\Local\\Temp\\ipykernel_22436\\332301269.py:4: PerformanceWarning: DataFrame is highly fragmented.  This is usually the result of calling `frame.insert` many times, which has poor performance.  Consider joining all columns at once using pd.concat(axis=1) instead. To get a de-fragmented frame, use `newframe = frame.copy()`\n",
      "  df[mask_col_name] = df[col].isna().astype(int)\n",
      "C:\\Users\\M1107171\\AppData\\Local\\Temp\\ipykernel_22436\\332301269.py:4: PerformanceWarning: DataFrame is highly fragmented.  This is usually the result of calling `frame.insert` many times, which has poor performance.  Consider joining all columns at once using pd.concat(axis=1) instead. To get a de-fragmented frame, use `newframe = frame.copy()`\n",
      "  df[mask_col_name] = df[col].isna().astype(int)\n",
      "C:\\Users\\M1107171\\AppData\\Local\\Temp\\ipykernel_22436\\332301269.py:4: PerformanceWarning: DataFrame is highly fragmented.  This is usually the result of calling `frame.insert` many times, which has poor performance.  Consider joining all columns at once using pd.concat(axis=1) instead. To get a de-fragmented frame, use `newframe = frame.copy()`\n",
      "  df[mask_col_name] = df[col].isna().astype(int)\n",
      "C:\\Users\\M1107171\\AppData\\Local\\Temp\\ipykernel_22436\\332301269.py:4: PerformanceWarning: DataFrame is highly fragmented.  This is usually the result of calling `frame.insert` many times, which has poor performance.  Consider joining all columns at once using pd.concat(axis=1) instead. To get a de-fragmented frame, use `newframe = frame.copy()`\n",
      "  df[mask_col_name] = df[col].isna().astype(int)\n",
      "C:\\Users\\M1107171\\AppData\\Local\\Temp\\ipykernel_22436\\332301269.py:4: PerformanceWarning: DataFrame is highly fragmented.  This is usually the result of calling `frame.insert` many times, which has poor performance.  Consider joining all columns at once using pd.concat(axis=1) instead. To get a de-fragmented frame, use `newframe = frame.copy()`\n",
      "  df[mask_col_name] = df[col].isna().astype(int)\n",
      "C:\\Users\\M1107171\\AppData\\Local\\Temp\\ipykernel_22436\\332301269.py:4: PerformanceWarning: DataFrame is highly fragmented.  This is usually the result of calling `frame.insert` many times, which has poor performance.  Consider joining all columns at once using pd.concat(axis=1) instead. To get a de-fragmented frame, use `newframe = frame.copy()`\n",
      "  df[mask_col_name] = df[col].isna().astype(int)\n",
      "C:\\Users\\M1107171\\AppData\\Local\\Temp\\ipykernel_22436\\332301269.py:4: PerformanceWarning: DataFrame is highly fragmented.  This is usually the result of calling `frame.insert` many times, which has poor performance.  Consider joining all columns at once using pd.concat(axis=1) instead. To get a de-fragmented frame, use `newframe = frame.copy()`\n",
      "  df[mask_col_name] = df[col].isna().astype(int)\n",
      "C:\\Users\\M1107171\\AppData\\Local\\Temp\\ipykernel_22436\\332301269.py:4: PerformanceWarning: DataFrame is highly fragmented.  This is usually the result of calling `frame.insert` many times, which has poor performance.  Consider joining all columns at once using pd.concat(axis=1) instead. To get a de-fragmented frame, use `newframe = frame.copy()`\n",
      "  df[mask_col_name] = df[col].isna().astype(int)\n",
      "C:\\Users\\M1107171\\AppData\\Local\\Temp\\ipykernel_22436\\332301269.py:4: PerformanceWarning: DataFrame is highly fragmented.  This is usually the result of calling `frame.insert` many times, which has poor performance.  Consider joining all columns at once using pd.concat(axis=1) instead. To get a de-fragmented frame, use `newframe = frame.copy()`\n",
      "  df[mask_col_name] = df[col].isna().astype(int)\n",
      "C:\\Users\\M1107171\\AppData\\Local\\Temp\\ipykernel_22436\\332301269.py:4: PerformanceWarning: DataFrame is highly fragmented.  This is usually the result of calling `frame.insert` many times, which has poor performance.  Consider joining all columns at once using pd.concat(axis=1) instead. To get a de-fragmented frame, use `newframe = frame.copy()`\n",
      "  df[mask_col_name] = df[col].isna().astype(int)\n",
      "C:\\Users\\M1107171\\AppData\\Local\\Temp\\ipykernel_22436\\332301269.py:4: PerformanceWarning: DataFrame is highly fragmented.  This is usually the result of calling `frame.insert` many times, which has poor performance.  Consider joining all columns at once using pd.concat(axis=1) instead. To get a de-fragmented frame, use `newframe = frame.copy()`\n",
      "  df[mask_col_name] = df[col].isna().astype(int)\n",
      "C:\\Users\\M1107171\\AppData\\Local\\Temp\\ipykernel_22436\\332301269.py:4: PerformanceWarning: DataFrame is highly fragmented.  This is usually the result of calling `frame.insert` many times, which has poor performance.  Consider joining all columns at once using pd.concat(axis=1) instead. To get a de-fragmented frame, use `newframe = frame.copy()`\n",
      "  df[mask_col_name] = df[col].isna().astype(int)\n"
     ]
    },
    {
     "name": "stdout",
     "output_type": "stream",
     "text": [
      "Index(['use_vent', 'PC mode', 'Vasopressor', 'Relaxant', 'Sedation', 'PPI',\n",
      "       'Pain control', 'Aspergillus', 'Candida', 'Abdomen',\n",
      "       ...\n",
      "       'Ionized Calcium_mask', 'Triglycerides_mask', 'Cortisol_mask',\n",
      "       'Uric Acid_mask', 'Ammonia_mask', 'Vitamin B12_mask', 'Weaning_mask',\n",
      "       'Reintubation_mask', 'Weaning_successful_mask', 'missing_mask'],\n",
      "      dtype='object', length=165)\n",
      "found 0/1!....missing\n"
     ]
    }
   ],
   "source": [
    "\"\"\" Missing value mask ==> 1 / 0 \"\"\"\n",
    "for col in df.columns:\n",
    "    mask_col_name = col + '_mask'\n",
    "    df[mask_col_name] = df[col].isna().astype(int)\n",
    "    \n",
    "\n",
    "\"\"\" Label Embedding \"\"\"\n",
    "object_col_list = []\n",
    "le = LabelEncoder()\n",
    "for col in df.select_dtypes(include='object'):\n",
    "    if col == 'date' or col == 'data_type' or col == 'ventilation_status': \n",
    "        continue\n",
    "    df[col].fillna(\"NULL\", inplace=True) \n",
    "    df[col] = le.fit_transform(df[col])\n",
    "    object_col_list.append(col)\n",
    "    \n",
    "\n",
    "\"\"\" Fill missing values with the binary column\"\"\"\n",
    "binary_cols = df.columns[(df.isin([0, 1, np.nan])).all()]\n",
    "df[binary_cols] = df[binary_cols].fillna(0)\n",
    "print(binary_cols)\n",
    "\n",
    "\n",
    "exclude_cols = ['date', 'data_type', 'ventilation_status','FiO2','PEEP']\n",
    "dont_remove_outlier_cols = exclude_cols + list(binary_cols) + object_col_list\n",
    "df = df.apply(lambda col: remove_outliers(col) if col.name not in dont_remove_outlier_cols else col, axis=0)"
   ]
  },
  {
   "cell_type": "code",
   "execution_count": 17,
   "id": "c48532fd",
   "metadata": {},
   "outputs": [
    {
     "name": "stderr",
     "output_type": "stream",
     "text": [
      "C:\\Users\\M1107171\\AppData\\Local\\Temp\\ipykernel_22436\\2583295988.py:10: FutureWarning: The default value of numeric_only in DataFrame.mean is deprecated. In a future version, it will default to False. In addition, specifying 'numeric_only=None' is deprecated. Select only valid columns or specify the value of numeric_only to silence this warning.\n",
      "  df_Mean = pd.DataFrame(df.mean()).T\n"
     ]
    }
   ],
   "source": [
    "import os\n",
    "\n",
    "\"\"\" mean of column \"\"\"\n",
    "# 路徑\n",
    "file_path = f'./data/mimic_data/df_Mean.csv'\n",
    "\n",
    "if os.path.exists(file_path):\n",
    "    df_Mean = pd.read_csv(file_path)\n",
    "else:\n",
    "    df_Mean = pd.DataFrame(df.mean()).T\n",
    "    df_Mean.to_csv(file_path, index=False) "
   ]
  },
  {
   "cell_type": "code",
   "execution_count": 18,
   "id": "c92d0f4d",
   "metadata": {},
   "outputs": [],
   "source": [
    "avg_PEEP = df[df['use_vent'] == 1]['PEEP'].mean()\n",
    "avg_FiO2 = df[df['use_vent'] == 1]['FiO2'].mean()"
   ]
  },
  {
   "cell_type": "code",
   "execution_count": 19,
   "id": "88d49e76",
   "metadata": {
    "scrolled": false
   },
   "outputs": [
    {
     "name": "stderr",
     "output_type": "stream",
     "text": [
      "100%|██████████████████████████████████████████████████████████████████████████████| 2893/2893 [02:43<00:00, 17.69it/s]\n"
     ]
    }
   ],
   "source": [
    "df_result = pd.DataFrame()\n",
    "df_result_list = []\n",
    "mean = df_Mean.mean()\n",
    "\n",
    "distinct_stay_id = df['stay_id'].unique()\n",
    "for stay_ids in tqdm(distinct_stay_id):     \n",
    "    df_P = df[df['stay_id'] == stay_ids]\n",
    "    df_P.reset_index(drop=True, inplace=True)\n",
    "    \n",
    "\n",
    "    df_P = impute_vent_feature(df_P,mean)\n",
    "    df_P = impute_Gram_stain(df_P)\n",
    "    \n",
    "    df_P.interpolate(method='linear',limit_direction='both', inplace=True)\n",
    "    df_P.interpolate(method='pad',limit_direction='forward', inplace=True)\n",
    "    df_P.interpolate(method='bfill',limit_direction='backward', inplace=True)\n",
    "    df_P.fillna(mean, inplace=True)\n",
    "    \n",
    "    df_result_list.append(df_P)\n",
    "    "
   ]
  },
  {
   "cell_type": "code",
   "execution_count": 20,
   "id": "b8f81d56",
   "metadata": {},
   "outputs": [],
   "source": [
    "df_result = pd.concat(df_result_list, ignore_index=True)"
   ]
  },
  {
   "cell_type": "code",
   "execution_count": 21,
   "id": "9e27116a",
   "metadata": {},
   "outputs": [],
   "source": [
    "df_result.to_csv(f'./data/mimic_data/full_step2.csv',index = False)"
   ]
  },
  {
   "cell_type": "code",
   "execution_count": null,
   "id": "e685fd00",
   "metadata": {},
   "outputs": [],
   "source": []
  }
 ],
 "metadata": {
  "kernelspec": {
   "display_name": "Python 3 (ipykernel)",
   "language": "python",
   "name": "python3"
  },
  "language_info": {
   "codemirror_mode": {
    "name": "ipython",
    "version": 3
   },
   "file_extension": ".py",
   "mimetype": "text/x-python",
   "name": "python",
   "nbconvert_exporter": "python",
   "pygments_lexer": "ipython3",
   "version": "3.9.16"
  }
 },
 "nbformat": 4,
 "nbformat_minor": 5
}
