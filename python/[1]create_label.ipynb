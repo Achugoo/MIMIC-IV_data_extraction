{
 "cells": [
  {
   "cell_type": "code",
   "execution_count": 13,
   "id": "869dca89",
   "metadata": {},
   "outputs": [],
   "source": [
    "import pandas as pd\n",
    "from tqdm import tqdm\n",
    "import numpy as np"
   ]
  },
  {
   "cell_type": "code",
   "execution_count": 14,
   "id": "647cd603",
   "metadata": {},
   "outputs": [],
   "source": [
    "df= pd.read_csv(f'./data/mimic_data/full.csv')\n",
    "\n",
    "df.reset_index(drop=True, inplace=True)\n",
    "\n",
    "if 'select_id' in df.columns:\n",
    "    df = df.drop(columns=['select_id'])\n",
    "if 'total' in df.columns:\n",
    "    df = df.drop(columns=['total'])\n",
    "df.rename(columns={'avg PEEP': 'PEEP'}, inplace=True)\n",
    "df.rename(columns={'avg FiO2': 'FiO2'}, inplace=True)\n",
    "df.rename(columns={'total2': 'total'}, inplace=True)\n",
    "\n",
    "df.columns = df.columns.str.replace('avg ', '')\n"
   ]
  },
  {
   "cell_type": "code",
   "execution_count": 15,
   "id": "554c9d4c",
   "metadata": {},
   "outputs": [
    {
     "name": "stdout",
     "output_type": "stream",
     "text": [
      "2893\n"
     ]
    }
   ],
   "source": [
    "distinct_stay_id = df['stay_id'].unique()\n",
    "print(len(distinct_stay_id))"
   ]
  },
  {
   "cell_type": "code",
   "execution_count": 16,
   "id": "827a6847",
   "metadata": {},
   "outputs": [],
   "source": [
    "total_vent = 0\n",
    "missing_peep = 0\n",
    "missing_fio2 = 0\n",
    "\n",
    "def calculate_missing_vent(df_P):\n",
    "    global total_vent\n",
    "    global missing_peep\n",
    "    global missing_fio2\n",
    "    \n",
    "    for index, row in df_P.iterrows():\n",
    "        if row['use_vent'] == 1:\n",
    "            total_vent += 1\n",
    "            if pd.isna(row['PEEP']):\n",
    "                missing_peep += 1\n",
    "            if pd.isna(row['FiO2']):\n",
    "                missing_fio2 += 1"
   ]
  },
  {
   "cell_type": "code",
   "execution_count": 17,
   "id": "091013e5",
   "metadata": {},
   "outputs": [],
   "source": [
    "dod_weaning_count = 0\n",
    "dod_weaning_successful_count = 0\n",
    "\n",
    "def Get_Weaning_vent_Label (df_in):\n",
    "    \n",
    "    df_out = df_in.copy()\n",
    "\n",
    "    \"\"\"\n",
    "    Adjusting small PEEP levels\n",
    "    \"\"\"\n",
    "    df_out.loc[df_out['PEEP'] < 5, 'PEEP'] = 5\n",
    "    df_out.loc[df_out['FiO2'] < 30, 'FiO2'] = 30\n",
    "    df_out.loc[df_out['Peak Airway Pressure'] < 10, 'Peak Airway Pressure'] = np.nan\n",
    "    \n",
    "    \"\"\"\n",
    "    Determine whether to use a ventilator => InvasiveVent = 1\n",
    "    \"\"\"    \n",
    "    df_out.insert(1, 'use_vent', df_out['InvasiveVent'].astype(int))\n",
    "    \n",
    "    \"\"\"\n",
    "    \"Fill in the intervals of ventilator discontinuation less than or equal to four days\"\n",
    "    \"\"\"\n",
    "  \n",
    "    idx = df_out[df_out['use_vent'] == 1].index \n",
    "\n",
    "    for i in range(len(idx) - 1):\n",
    "        start_idx = idx[i]\n",
    "        end_idx = idx[i+1]\n",
    "        gap = end_idx - start_idx - 1  \n",
    "        if gap <= 3 and (df_out.loc[start_idx+1:end_idx-1, 'use_vent'] == 0).all():\n",
    "            df_out.loc[start_idx+1:end_idx-1, 'use_vent'] = 1\n",
    "            \n",
    "        \n",
    "    \"\"\"\n",
    "    Weaning\n",
    "    \"\"\"\n",
    "    df_out['Weaning'] = -1\n",
    "    \n",
    "    for i in range(len(df_out)-1):\n",
    "        dod_in_3day = df_out['dod'][i:i+4].max()  #[i,i+1,i+2,i+3]\n",
    "        if df_out.at[i,'InvasiveVent'] == 1:\n",
    "            if df_out.at[i+1,'InvasiveVent'] == 0:\n",
    "                if dod_in_3day == 1: \n",
    "                    df_out.at[i,'Weaning'] = 0\n",
    "                    global dod_weaning_count\n",
    "                    dod_weaning_count += 1\n",
    "                else:\n",
    "                    df_out.at[i,'Weaning'] = 1\n",
    "            else:\n",
    "                df_out.at[i,'Weaning'] = 0\n",
    "    \n",
    "    \"\"\"\n",
    "    Reintubation\n",
    "    \"\"\"\n",
    "    df_out['Reintubation'] = -1\n",
    "    for i in range(len(df_out)-4):\n",
    "        if df_out.at[i, 'Weaning'] != 1:\n",
    "            continue\n",
    "        if df_out.loc[i+1:i+4, 'InvasiveVent'].max() == 1:\n",
    "            df_out.at[i, 'Reintubation'] = 1\n",
    "        else:\n",
    "            df_out.at[i, 'Reintubation'] = 0\n",
    "            \n",
    "    check_flag = False\n",
    "    if df_out['Reintubation'].max() == 1:\n",
    "        check_flag = True\n",
    "        \n",
    "    \n",
    "    \"\"\"\n",
    "    Weaning_successful\n",
    "    \"\"\"\n",
    "    df_out['Weaning_successful'] = -1\n",
    "    for i in range(0,len(df_out) - 1):\n",
    "        use_vent_today = df_out.at[i, 'use_vent']\n",
    "        use_vent_tomorrow = df_out.at[i+1, 'use_vent']\n",
    "        dod_in_3day = df_out['dod'][i+0:i+4].max()  #[i+1,i+2,i+3]\n",
    "        \n",
    "        if use_vent_today == 1 and use_vent_tomorrow == 1:\n",
    "            df_out.at[i, 'Weaning_successful'] = 0\n",
    "            \n",
    "        if use_vent_today == 1 and use_vent_tomorrow == 0:\n",
    "            #死亡視為失敗\n",
    "            if dod_in_3day == 1:\n",
    "                df_out.at[i, 'Weaning_successful'] = 0\n",
    "                global dod_weaning_successful_count\n",
    "                dod_weaning_successful_count += 1\n",
    "            else:\n",
    "                df_out.at[i, 'Weaning_successful'] = 1\n",
    "                #break\n",
    "                \n",
    "    \n",
    "    \"\"\"\n",
    "    \"Fill in default values for instances where the ventilator was not used.\"\n",
    "    \"\"\"\n",
    "    for i in range(len(df_out)):\n",
    "        if  df_out.at[i, 'use_vent'] == 0 or df_out.at[i, 'use_vent'] == -1:\n",
    "            if pd.isnull(df_out.at[i, 'PEEP']):\n",
    "                df_out.at[i, 'PEEP'] = 5 \n",
    "            if pd.isnull(df_out.at[i, 'FiO2']):\n",
    "                df_out.at[i, 'FiO2'] = 30            \n",
    "    #################################################################################\n",
    "    calculate_missing_vent(df_out)\n",
    "\n",
    "    return df_out"
   ]
  },
  {
   "cell_type": "code",
   "execution_count": 18,
   "id": "394cb40c",
   "metadata": {},
   "outputs": [
    {
     "name": "stderr",
     "output_type": "stream",
     "text": [
      "Processing stay_ids: 100%|████████████████████████████████████████████████████████| 2893/2893 [00:12<00:00, 239.07it/s]\n"
     ]
    }
   ],
   "source": [
    "df_result = pd.DataFrame()\n",
    "df_result_list = []\n",
    "\n",
    "for stay_id in tqdm(distinct_stay_id, desc=\"Processing stay_ids\"):\n",
    "    df_p = df[df['stay_id'] == stay_id]\n",
    "    df_p.reset_index(drop=True, inplace=True)\n",
    "    df_p = Get_Weaning_vent_Label(df_p)\n",
    "    df_result_list.append(df_p)\n",
    "\n",
    "df_result = pd.concat(df_result_list, ignore_index=True)"
   ]
  },
  {
   "cell_type": "code",
   "execution_count": 19,
   "id": "db49043a",
   "metadata": {},
   "outputs": [],
   "source": [
    "df_result.to_csv(f'./data/mimic_data/full_step1.csv',index = False)"
   ]
  },
  {
   "cell_type": "code",
   "execution_count": null,
   "id": "4988c86a",
   "metadata": {},
   "outputs": [],
   "source": []
  }
 ],
 "metadata": {
  "kernelspec": {
   "display_name": "Python 3 (ipykernel)",
   "language": "python",
   "name": "python3"
  },
  "language_info": {
   "codemirror_mode": {
    "name": "ipython",
    "version": 3
   },
   "file_extension": ".py",
   "mimetype": "text/x-python",
   "name": "python",
   "nbconvert_exporter": "python",
   "pygments_lexer": "ipython3",
   "version": "3.9.16"
  }
 },
 "nbformat": 4,
 "nbformat_minor": 5
}
