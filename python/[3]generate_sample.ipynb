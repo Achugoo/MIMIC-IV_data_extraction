{
 "cells": [
  {
   "cell_type": "code",
   "execution_count": 49,
   "id": "18c80068",
   "metadata": {},
   "outputs": [],
   "source": [
    "import pandas as pd\n",
    "import numpy as np\n",
    "from tqdm import tqdm\n",
    "import random\n",
    "from scipy.stats import chi2_contingency\n",
    "from openpyxl import Workbook\n",
    "from openpyxl.utils.dataframe import dataframe_to_rows"
   ]
  },
  {
   "cell_type": "code",
   "execution_count": 50,
   "id": "dd97f12a",
   "metadata": {},
   "outputs": [],
   "source": [
    "df= pd.read_csv(f'./data/mimic_data/full_step2.csv')\n",
    "\n",
    "\"\"\"\n",
    "[feature1~n,missing,mask1~n,missing_mask] ==> [feature,mask,missing]\n",
    "\"\"\"\n",
    "column_to_move = 'missing'\n",
    "df = df[[col for col in df.columns if col != column_to_move] + [column_to_move]]\n"
   ]
  },
  {
   "cell_type": "code",
   "execution_count": 51,
   "id": "312aebc9",
   "metadata": {},
   "outputs": [],
   "source": [
    "\"\"\"\n",
    "input: list[numpy]\n",
    "remove negative samples\n",
    "\"\"\"\n",
    "def remove_sample(x,y,choose_count = 3):\n",
    "    random.seed(42)\n",
    "    num_sample = len(x)\n",
    "    have_label_1 = False\n",
    "\n",
    "    if num_sample<=choose_count:\n",
    "        x = [arr[:, :-2] for arr in x]\n",
    "        return x,y\n",
    "    \n",
    "    for label in y:\n",
    "        if label[0] == 1:\n",
    "            have_label_1\n",
    "            break\n",
    "\n",
    "    if have_label_1 == True:\n",
    "        x,y,_ = sort_by_missing(x,y)    \n",
    "        pass\n",
    "    else:\n",
    "        x,y,_ = sort_by_missing(x,y)    \n",
    "    \n",
    "    x = [arr[:, :-2] for arr in x]\n",
    "\n",
    "    random_indices = [i for i in range(choose_count)]\n",
    "\n",
    "    for i in range(len(y)):\n",
    "        if y[i][0] == 1:\n",
    "            if i not in random_indices:\n",
    "                random_indices.append(i)\n",
    "                \n",
    "    selected_x = [x[i] for i in random_indices]\n",
    "    selected_y = [y[i] for i in random_indices]\n",
    "\n",
    "    return selected_x,selected_y"
   ]
  },
  {
   "cell_type": "code",
   "execution_count": 52,
   "id": "58102a45",
   "metadata": {},
   "outputs": [],
   "source": [
    "def sort_by_missing(x_list,y_list):\n",
    "    if len(x_list) == 0:\n",
    "        return data_list\n",
    "    \n",
    "    sample = x_list[0]\n",
    "    feature_missing_index = sample.shape[1]-1  \n",
    "    \n",
    "    sums = [(np.sum(x[:, feature_missing_index]), x, y) for x, y in zip(x_list, y_list)]\n",
    "    \n",
    "    sorted_sums = sorted(sums, key=lambda x: x[0], reverse=False)\n",
    "\n",
    "    sorted_sum_list  = [item[0] for item in sorted_sums]\n",
    "    sorted_x_list = [item[1] for item in sorted_sums]\n",
    "    sorted_y_list = [item[2] for item in sorted_sums]\n",
    "    \n",
    "    return sorted_x_list,sorted_y_list,sorted_sum_list"
   ]
  },
  {
   "cell_type": "code",
   "execution_count": 53,
   "id": "5577ffee",
   "metadata": {},
   "outputs": [],
   "source": [
    "df_columns = pd.DataFrame()"
   ]
  },
  {
   "cell_type": "code",
   "execution_count": 54,
   "id": "928de9a0",
   "metadata": {},
   "outputs": [],
   "source": [
    "\"\"\"\n",
    "input_features, labels\n",
    "\n",
    "input_features: dict['task'] ==> list[numpy]\n",
    "\"\"\"\n",
    "def get_input_and_label(df_patient, window_size, stay_id):\n",
    "    global weaning_too_short_count\n",
    "    global weaning_successful_too_short_count\n",
    "\n",
    "    input_features = {\n",
    "        'Mortality': [], 'Mortality_30d': [], 'Mortality_60d': [], 'Mortality_90d': [],\n",
    "        'Weaning': [], 'Weaning_successful': [], 'Vasopressor': [],\n",
    "        'SBT_Start': [], 'SBT_Successful': [], 'Reintubation': []\n",
    "    }\n",
    "\n",
    "    labels = {\n",
    "        'Mortality': [], 'Mortality_30d': [], 'Mortality_60d': [], 'Mortality_90d': [],\n",
    "        'Weaning': [], 'Weaning_successful': [], 'Vasopressor': [],\n",
    "        'SBT_Start': [], 'SBT_Successful': [], 'Reintubation': []\n",
    "    }\n",
    "\n",
    "    if len(df_patient) <= window_size:\n",
    "        return input_features, labels\n",
    "\n",
    "    label_col = ['dod', 'dod_30day', 'dod_60day', 'dod_90day', 'Weaning_successful', 'Weaning', 'Reintubation',\n",
    "                 'SBT Started', 'SBT Successfully Completed', 'Vasopressor', 'use_vent']\n",
    "    label_col = label_col + ['InvasiveVent', 'tracheostomy', 'NonInvasiveVent', 'SupplementalOxygen', 'HFNC']\n",
    "    label_col = label_col + ['date']\n",
    "    mask_col = [f'{i}_mask' for i in label_col]\n",
    "    label_col = label_col + mask_col\n",
    "        \n",
    "    for i in range(0, len(df_patient)):\n",
    "        if i + window_size >= len(df_patient):\n",
    "            break\n",
    "        input_using_vent = df_patient['use_vent'][i:i + window_size].min() == 1\n",
    "        df_input = df_patient.iloc[i:i + window_size, ~df_patient.columns.isin(label_col)]\n",
    "        input_X = df_input.values\n",
    "\n",
    "        global df_columns\n",
    "        if len(df_columns.columns) == 0:\n",
    "            if 'missing' in df_input:\n",
    "                df_input = df_input.drop('missing',axis = 1)\n",
    "                df_input = df_input.drop('missing_mask',axis = 1)\n",
    "            df_columns = df_input.copy()\n",
    "\n",
    "        labels_y = {\n",
    "            'Mortality': df_patient.iloc[i + window_size:i + window_size + 1]['dod'].values,\n",
    "            'Mortality_30d': df_patient.iloc[i + window_size:i + window_size + 1]['dod_30day'].values,\n",
    "            'Mortality_60d': df_patient.iloc[i + window_size:i + window_size + 1]['dod_60day'].values,\n",
    "            'Mortality_90d': df_patient.iloc[i + window_size:i + window_size + 1]['dod_90day'].values,\n",
    "            'Weaning': df_patient.iloc[i + window_size:i + window_size + 1]['Weaning'].values,\n",
    "            'Weaning_successful': df_patient.iloc[i + window_size:i + window_size + 1]['Weaning_successful'].values,\n",
    "            'Vasopressor': df_patient.iloc[i + window_size:i + window_size + 1]['Vasopressor'].values,\n",
    "            'SBT_Start': df_patient.iloc[i + window_size:i + window_size + 1]['SBT Started'].values,\n",
    "            'SBT_Successful': df_patient.iloc[i + window_size:i + window_size + 1]['SBT Successfully Completed'].values,\n",
    "            'Reintubation': df_patient.iloc[i + window_size:i + window_size + 1]['Reintubation'].values\n",
    "        }\n",
    "\n",
    "        if not input_using_vent:\n",
    "            for key in ['Weaning', 'Weaning_successful', 'SBT_Start', 'SBT_Successful']:\n",
    "                labels_y[key] = -1\n",
    "        \n",
    "        for key in input_features.keys():\n",
    "            if labels_y[key] != -1:\n",
    "                input_features[key].append(input_X)\n",
    "                labels[key].append(labels_y[key])\n",
    "    \n",
    "    #remove sample\n",
    "    for key in input_features.keys():\n",
    "        x_list = input_features[key]\n",
    "        y_list = labels[key]\n",
    "        x_list_select, y_list_select = remove_sample(x_list,y_list)\n",
    "        input_features[key] = x_list_select\n",
    "        labels[key] = y_list_select\n",
    "        \n",
    "    return input_features, labels"
   ]
  },
  {
   "cell_type": "code",
   "execution_count": 55,
   "id": "7f2c37fc",
   "metadata": {},
   "outputs": [],
   "source": [
    "def select_pattern(df_P,label_name):\n",
    "    \n",
    "    if len(df_P) == 1:\n",
    "        return False\n",
    "    \n",
    "    for i in range(1,len(df_P)):\n",
    "        if df_P.at[i,label_name] != -1 and df_P.at[i-1,'use_vent'] == 1:\n",
    "            return True\n",
    "    return False\n",
    "\n"
   ]
  },
  {
   "cell_type": "code",
   "execution_count": 56,
   "id": "967759ae",
   "metadata": {},
   "outputs": [],
   "source": [
    "def calculate_iqr(df):\n",
    "    def calculate_column_iqr(column):\n",
    "        if column.dtype == 'O':\n",
    "            return 0\n",
    "        summary = column.describe()\n",
    "        q1 = summary['25%']\n",
    "        q3 = summary['75%']\n",
    "        iqr_str = f'{round(q1,2)}-{round(q3,2)}'\n",
    "        return iqr_str\n",
    "    iqr_values = df.apply(calculate_column_iqr)\n",
    "\n",
    "    return iqr_values\n",
    "\n",
    "def statistics(df, sample_type = 'mean'):\n",
    "    mean_series = df.mean(numeric_only=True)\n",
    "    median_series = df.median(numeric_only=True)\n",
    "    std_series = df.std(numeric_only=True)\n",
    "    iqr_series = calculate_iqr(df.drop('date', axis=1))\n",
    "    if sample_type == 'mean':\n",
    "        combined_series = mean_series.round(2).astype(str) + '±' + std_series.round(2).astype(str)\n",
    "    else:\n",
    "        combined_series = median_series.round(2).astype(str) + ' (' + iqr_series + ')'\n",
    "    return combined_series\n",
    "\n",
    "def calculate_p_value(group1,group2):\n",
    "    t_statistic, p_value = ttest_ind(group1, group2)\n",
    "    return t_statistic, p_value\n",
    "\n",
    "def remove_nah(arr):\n",
    "    mask = np.isnan(arr)\n",
    "    arr_no_nan = arr[~mask]\n",
    "    return arr_no_nan\n",
    "\n",
    "\n",
    "def save_to_xlsx(df_save,file_name = 'output'):\n",
    "    wb = Workbook()\n",
    "    ws = wb.active\n",
    "    for r_idx, row in enumerate(dataframe_to_rows(df_save, index=False, header=True), 1):\n",
    "        for c_idx, value in enumerate(row, 1):\n",
    "            ws.cell(row=r_idx, column=c_idx, value=value)\n",
    "    wb.save(f'{file_name}.xlsx')"
   ]
  },
  {
   "cell_type": "code",
   "execution_count": null,
   "id": "6ef4e9df",
   "metadata": {},
   "outputs": [],
   "source": []
  },
  {
   "cell_type": "code",
   "execution_count": 57,
   "id": "d86c05c2",
   "metadata": {
    "scrolled": false
   },
   "outputs": [
    {
     "name": "stderr",
     "output_type": "stream",
     "text": [
      "100%|█████████████████████████████████████████████████████████████████████████████| 2893/2893 [00:16<00:00, 177.48it/s]\n"
     ]
    }
   ],
   "source": [
    "#+++\n",
    "df_statistics = pd.DataFrame(columns=['InvasiveVent', 'Weaning', 'Weaning_successful','pred_weaning','pred_weaning_successful'])\n",
    "input_features_list = []\n",
    "labels_list = []\n",
    "window_size = 1\n",
    "distinct_stay_id = df['stay_id'].unique()\n",
    "count_1D = 0\n",
    "count_more_1D = 0\n",
    "for stay_ids in tqdm(distinct_stay_id): \n",
    "    df_P = df[df['stay_id'] == stay_ids]\n",
    "    input_features, labels = get_input_and_label(df_P, window_size ,stay_ids)\n",
    "    input_features_list.append(input_features)\n",
    "    labels_list.append(labels)\n",
    "    \n",
    "\n",
    "    pred_weaning = -1 \n",
    "    pred_weaning_successful = -1\n",
    "    if len(labels['Weaning'])!=0:\n",
    "        pred_weaning = max([arr[0] for arr in labels['Weaning']])\n",
    "    if len(labels['Weaning_successful'])!=0:\n",
    "        pred_weaning_successful = max([arr[0] for arr in labels['Weaning_successful']])\n",
    "    \n",
    "    if df_P['Weaning_successful'].max() == 1 and df_P['Weaning'].max() == 1:\n",
    "        if pred_weaning_successful == -1 and pred_weaning == -1 and df_P['InvasiveVent'].max() == 1:\n",
    "            if (df_P['InvasiveVent'] == 1).sum() != 1:\n",
    "                count_more_1D += 1\n",
    "            else:\n",
    "                count_1D += 1\n",
    "\n",
    "    \n",
    "    new_data = {'stay_id' : stay_ids,\n",
    "                'InvasiveVent': df_P['InvasiveVent'].max(),\n",
    "                'Weaning': df_P['Weaning'].max(),  \n",
    "                'Weaning_successful': df_P['Weaning_successful'].max(),\n",
    "                'SBT_start' : df_P['SBT Started'].max(),\n",
    "                'SBT_successful' : df_P['SBT Successfully Completed'].max(),\n",
    "                'pred_weaning': pred_weaning,\n",
    "                'pred_weaning_successful': pred_weaning_successful}\n",
    "    \n",
    "    \n",
    "    df_statistics = pd.concat([df_statistics, pd.DataFrame([new_data])], ignore_index=True)\n"
   ]
  },
  {
   "cell_type": "code",
   "execution_count": 58,
   "id": "030c70b5",
   "metadata": {},
   "outputs": [],
   "source": [
    "task_name_list = ['Weaning','Weaning_successful','SBT_Start','SBT_Successful','Mortality','Mortality_30d','Mortality_60d','Mortality_90d','Vasopressor']"
   ]
  },
  {
   "cell_type": "code",
   "execution_count": 59,
   "id": "735b1e48",
   "metadata": {},
   "outputs": [
    {
     "data": {
      "text/plain": [
       "2893"
      ]
     },
     "execution_count": 59,
     "metadata": {},
     "output_type": "execute_result"
    }
   ],
   "source": [
    "len(input_features_list)"
   ]
  },
  {
   "cell_type": "code",
   "execution_count": 60,
   "id": "84fbddfd",
   "metadata": {},
   "outputs": [
    {
     "name": "stderr",
     "output_type": "stream",
     "text": [
      "100%|████████████████████████████████████████████████████████████████████████████| 2893/2893 [00:01<00:00, 1496.33it/s]\n"
     ]
    }
   ],
   "source": [
    "task_samples = {}\n",
    "task_labels = {}\n",
    "\n",
    "\n",
    "for i in tqdm(range(len(input_features_list))): \n",
    "    x_dict = input_features_list[i]\n",
    "    y_dict = labels_list[i]\n",
    "    \n",
    "    for task, data in x_dict.items():\n",
    "        if task not in task_samples:\n",
    "            task_samples[task] = []\n",
    "        task_samples[task] = task_samples[task] + data\n",
    "        \n",
    "    for task, label in y_dict.items():\n",
    "        if task not in task_labels:\n",
    "            task_labels[task] = []\n",
    "        task_labels[task] = task_labels[task] + label\n",
    "            \n",
    "\n"
   ]
  },
  {
   "cell_type": "code",
   "execution_count": 61,
   "id": "2b55c3ce",
   "metadata": {},
   "outputs": [],
   "source": [
    "for task_name in task_name_list:\n",
    "    task_samples[task_name] = np.array(task_samples[task_name])\n",
    "    task_labels[task_name] = np.squeeze(task_labels[task_name])\n",
    "    #print(task_samples[task_name].shape)"
   ]
  },
  {
   "cell_type": "code",
   "execution_count": 62,
   "id": "f6918298",
   "metadata": {},
   "outputs": [],
   "source": [
    "def check_label_distribution (data_Y):\n",
    "    count_1 = np.count_nonzero(data_Y == 1)\n",
    "    count_0 = np.count_nonzero(data_Y == 0)\n",
    "    count_others = np.count_nonzero((data_Y != 1) & (data_Y != 0))\n",
    "    #print(f'count1:{count_1}....{count_0}')\n",
    "    ratio_1 = round(count_1/len(data_Y)*100,2)\n",
    "    ratio_0 = round(count_0/len(data_Y)*100,2)\n",
    "    ratio_others = round(count_others/len(data_Y)*100,2)\n",
    "    print(f'1=>{count_1}({ratio_1}%),  0=>{count_0}({ratio_0}%),  others=>{count_others}({ratio_others}%)')"
   ]
  },
  {
   "cell_type": "code",
   "execution_count": 63,
   "id": "2fc020de",
   "metadata": {},
   "outputs": [
    {
     "name": "stdout",
     "output_type": "stream",
     "text": [
      "save? (y/n)y\n",
      "Saved successfully.... 240206\n",
      "Finish.... 2024-02-06 15:56:21.953265\n"
     ]
    }
   ],
   "source": [
    "from datetime import datetime\n",
    "date = datetime.today().strftime('%y%m%d')\n",
    "route = './data/sample'\n",
    "    \n",
    "\n",
    "is_save = input('save? (y/n)')\n",
    "if is_save == 'y':\n",
    "    for task_name in task_name_list:\n",
    "        for data_type in ['train','validation','test']:\n",
    "            len_of_sample = len(task_samples[task_name])\n",
    "            feature_count = int(len(df_columns.columns)/2)\n",
    "            if data_type == 'train':\n",
    "                x = task_samples[task_name][:int(len_of_sample*0.8),:,:feature_count]\n",
    "                y = task_labels[task_name][:int(len_of_sample*0.8)]\n",
    "            elif data_type == 'validation':\n",
    "                x = task_samples[task_name][int(len_of_sample*0.8):int(len_of_sample*0.9),:,:feature_count]\n",
    "                y = task_labels[task_name][int(len_of_sample*0.8):int(len_of_sample*0.9)]\n",
    "            else:\n",
    "                x = task_samples[task_name][int(len_of_sample*0.9):,:,:feature_count]\n",
    "                y = task_labels[task_name][int(len_of_sample*0.9):]\n",
    "            np.save(f'{route}/{data_type}_X_{task_name}.npy', x)\n",
    "            np.save(f'{route}/{data_type}_Y_{task_name}.npy', y)\n",
    "    print('Saved successfully....', date)\n",
    "    \n",
    "print(\"Finish....\", datetime.now())"
   ]
  },
  {
   "cell_type": "code",
   "execution_count": 64,
   "id": "3badf0a1",
   "metadata": {},
   "outputs": [
    {
     "name": "stdout",
     "output_type": "stream",
     "text": [
      "(3601, 102)\n"
     ]
    }
   ],
   "source": [
    "feature_num = task_samples['Weaning_successful'].shape[2]/2\n",
    "mask_data = task_samples['Weaning_successful'][:,0,int(feature_num):]\n",
    "mask_data = mask_data.squeeze()\n",
    "print(mask_data.shape)"
   ]
  },
  {
   "cell_type": "code",
   "execution_count": 65,
   "id": "311880ae",
   "metadata": {},
   "outputs": [],
   "source": [
    "len_col = int(len(df_columns.columns)/2)\n",
    "col_name_list = df_columns.columns.to_list()[len_col:]\n",
    "df_mask = pd.DataFrame(mask_data, columns=col_name_list)"
   ]
  },
  {
   "cell_type": "code",
   "execution_count": 66,
   "id": "de492310",
   "metadata": {},
   "outputs": [
    {
     "name": "stdout",
     "output_type": "stream",
     "text": [
      "102\n"
     ]
    }
   ],
   "source": [
    "print(int(feature_num))\n",
    "\n",
    "df_columns.iloc[:, 1:int(feature_num)].to_csv(f\"{route}/full_feature_name.csv\", index=False)"
   ]
  },
  {
   "cell_type": "code",
   "execution_count": null,
   "id": "49ef7b51",
   "metadata": {},
   "outputs": [],
   "source": []
  },
  {
   "cell_type": "code",
   "execution_count": null,
   "id": "6f4b1a1b",
   "metadata": {},
   "outputs": [],
   "source": []
  }
 ],
 "metadata": {
  "kernelspec": {
   "display_name": "Python 3 (ipykernel)",
   "language": "python",
   "name": "python3"
  },
  "language_info": {
   "codemirror_mode": {
    "name": "ipython",
    "version": 3
   },
   "file_extension": ".py",
   "mimetype": "text/x-python",
   "name": "python",
   "nbconvert_exporter": "python",
   "pygments_lexer": "ipython3",
   "version": "3.9.16"
  }
 },
 "nbformat": 4,
 "nbformat_minor": 5
}
